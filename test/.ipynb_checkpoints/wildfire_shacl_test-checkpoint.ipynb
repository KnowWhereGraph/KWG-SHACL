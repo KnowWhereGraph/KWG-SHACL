{
 "cells": [
  {
   "cell_type": "code",
   "execution_count": 1,
   "id": "5c8bbccf-d0ae-4e81-915d-cac45c47c683",
   "metadata": {},
   "outputs": [],
   "source": [
    "import os\n",
    "\n",
    "from rdflib import Graph\n",
    "from pyshacl import validate"
   ]
  },
  {
   "cell_type": "code",
   "execution_count": 11,
   "id": "c9f03a37-acad-4be7-8bdd-955604f8ba05",
   "metadata": {},
   "outputs": [],
   "source": [
    "shape_paths = list()\n",
    "example_graph_path = 'test/example-graphs/historical-fires-usgs-test.ttl'"
   ]
  },
  {
   "cell_type": "code",
   "execution_count": 12,
   "id": "fb5e0436-5140-4dbf-9bf6-1f720f11863c",
   "metadata": {},
   "outputs": [],
   "source": [
    "labels = [\"node\", \"property\"]\n",
    "for label in labels:\n",
    "    directory = f\"../shapes/{label}-shapes\"\n",
    "    for node_shape in os.listdir(directory):\n",
    "        node_shape_path = os.path.join(directory, node_shape)\n",
    "        shape_paths += [node_shape_path]"
   ]
  },
  {
   "cell_type": "code",
   "execution_count": 13,
   "id": "c3758435-a7ac-4501-8dda-b7908aae4b19",
   "metadata": {},
   "outputs": [
    {
     "data": {
      "text/plain": [
       "<Graph identifier=Nae3ed8873b414397b57f75b724315eb1 (<class 'rdflib.graph.Graph'>)>"
      ]
     },
     "execution_count": 13,
     "metadata": {},
     "output_type": "execute_result"
    }
   ],
   "source": [
    "example_graph = Graph()\n",
    "example_graph.parse(example_graph_path, format='ttl')"
   ]
  },
  {
   "cell_type": "code",
   "execution_count": 19,
   "id": "30575cd9-72d3-4d32-accf-06fa148b5d6f",
   "metadata": {},
   "outputs": [
    {
     "name": "stdout",
     "output_type": "stream",
     "text": [
      "../shapes/node-shapes/ProcedureConstraint.ttl\n",
      "Processing: ProcedureConstraint.ttl!\n",
      "Result Text: Validation Report\n",
      "Conforms: True\n",
      "\n",
      "##################################################################################################################################\n",
      "##################################################################################################################################\n",
      "\n",
      "../shapes/node-shapes/PlatformConstraint.ttl\n",
      "Processing: PlatformConstraint.ttl!\n",
      "Result Text: Validation Report\n",
      "Conforms: True\n",
      "\n",
      "##################################################################################################################################\n",
      "##################################################################################################################################\n",
      "\n",
      "../shapes/node-shapes/FeatureOfInterestConstraint.ttl\n",
      "Processing: FeatureOfInterestConstraint.ttl!\n",
      "Result Text: Validation Report\n",
      "Conforms: True\n",
      "\n",
      "##################################################################################################################################\n",
      "##################################################################################################################################\n",
      "\n",
      "../shapes/node-shapes/SensorConstraint.ttl\n",
      "Processing: SensorConstraint.ttl!\n",
      "Result Text: Validation Report\n",
      "Conforms: True\n",
      "\n",
      "##################################################################################################################################\n",
      "##################################################################################################################################\n",
      "\n",
      "../shapes/node-shapes/ActuationConstraint.ttl\n"
     ]
    },
    {
     "name": "stderr",
     "output_type": "stream",
     "text": [
      "Shacl File does not validate against the Shacl Shapes Shacl file.\n",
      "Validation Report\n",
      "Conforms: False\n",
      "Results (2):\n",
      "Constraint Violation in MinCountConstraintComponent (http://www.w3.org/ns/shacl#MinCountConstraintComponent):\n",
      "\tSeverity: sh:Violation\n",
      "\tSource Shape: [ sh:maxCount Literal(\"1\", datatype=xsd:integer) ; sh:minCount Literal(\"1\", datatype=xsd:integer) ; sh:or ( shsh:PathShape [ sh:nodeKind sh:IRI ] ) ; sh:path sh:path ]\n",
      "\tFocus Node: [ rdf:type rdfs:Resource ; rdfs:comment Literal(\"An actuatiin has to have either one phenomenonTime or one resultTime.\", lang=en) ; sh:or ( [ rdf:type rdfs:Resource ; sh:class time:TemporalEntity ; sh:maxCount Literal(\"1\", datatype=xsd:integer) ; sh:minCount Literal(\"1\", datatype=xsd:integer) ; sh:path sosa:phenomenonTime ] [ rdf:type rdfs:Resource ; sh:datatype xsd:dateTime ; sh:maxCount Literal(\"1\", datatype=xsd:integer) ; sh:minCount Literal(\"1\", datatype=xsd:integer) ; sh:path sosa:resultTime ] ) ]\n",
      "\tResult Path: sh:path\n",
      "\tMessage: Less than 1 values on [ rdf:type rdfs:Resource ; rdfs:comment Literal(\"An actuatiin has to have either one phenomenonTime or one resultTime.\", lang=en) ; sh:or ( [ rdf:type rdfs:Resource ; sh:class time:TemporalEntity ; sh:maxCount Literal(\"1\", datatype=xsd:integer) ; sh:minCount Literal(\"1\", datatype=xsd:integer) ; sh:path sosa:phenomenonTime ] [ rdf:type rdfs:Resource ; sh:datatype xsd:dateTime ; sh:maxCount Literal(\"1\", datatype=xsd:integer) ; sh:minCount Literal(\"1\", datatype=xsd:integer) ; sh:path sosa:resultTime ] ) ]->sh:path\n",
      "Constraint Violation in MinCountConstraintComponent (http://www.w3.org/ns/shacl#MinCountConstraintComponent):\n",
      "\tSeverity: sh:Violation\n",
      "\tSource Shape: [ sh:maxCount Literal(\"1\", datatype=xsd:integer) ; sh:minCount Literal(\"1\", datatype=xsd:integer) ; sh:or ( shsh:PathShape [ sh:nodeKind sh:IRI ] ) ; sh:path sh:path ]\n",
      "\tFocus Node: [ rdf:type rdfs:Resource ; rdfs:comment Literal(\"An actuation can have hasResult or hasSimpleResult as the result, but not neither.\", lang=en) ; sh:or ( [ rdf:type rdfs:Resource ; sh:class sosa:Result ; sh:maxCount Literal(\"1\", datatype=xsd:integer) ; sh:minCount Literal(\"1\", datatype=xsd:integer) ; sh:path sosa:hasResult ] [ rdf:type rdfs:Resource ; sh:maxCount Literal(\"1\", datatype=xsd:integer) ; sh:minCount Literal(\"1\", datatype=xsd:integer) ; sh:path sosa:hasSimpleResult ] ) ]\n",
      "\tResult Path: sh:path\n",
      "\tMessage: Less than 1 values on [ rdf:type rdfs:Resource ; rdfs:comment Literal(\"An actuation can have hasResult or hasSimpleResult as the result, but not neither.\", lang=en) ; sh:or ( [ rdf:type rdfs:Resource ; sh:class sosa:Result ; sh:maxCount Literal(\"1\", datatype=xsd:integer) ; sh:minCount Literal(\"1\", datatype=xsd:integer) ; sh:path sosa:hasResult ] [ rdf:type rdfs:Resource ; sh:maxCount Literal(\"1\", datatype=xsd:integer) ; sh:minCount Literal(\"1\", datatype=xsd:integer) ; sh:path sosa:hasSimpleResult ] ) ]->sh:path\n",
      "\n"
     ]
    },
    {
     "ename": "ReportableRuntimeError",
     "evalue": "Shacl File does not validate against the Shacl Shapes Shacl file.\nValidation Report\nConforms: False\nResults (2):\nConstraint Violation in MinCountConstraintComponent (http://www.w3.org/ns/shacl#MinCountConstraintComponent):\n\tSeverity: sh:Violation\n\tSource Shape: [ sh:maxCount Literal(\"1\", datatype=xsd:integer) ; sh:minCount Literal(\"1\", datatype=xsd:integer) ; sh:or ( shsh:PathShape [ sh:nodeKind sh:IRI ] ) ; sh:path sh:path ]\n\tFocus Node: [ rdf:type rdfs:Resource ; rdfs:comment Literal(\"An actuatiin has to have either one phenomenonTime or one resultTime.\", lang=en) ; sh:or ( [ rdf:type rdfs:Resource ; sh:class time:TemporalEntity ; sh:maxCount Literal(\"1\", datatype=xsd:integer) ; sh:minCount Literal(\"1\", datatype=xsd:integer) ; sh:path sosa:phenomenonTime ] [ rdf:type rdfs:Resource ; sh:datatype xsd:dateTime ; sh:maxCount Literal(\"1\", datatype=xsd:integer) ; sh:minCount Literal(\"1\", datatype=xsd:integer) ; sh:path sosa:resultTime ] ) ]\n\tResult Path: sh:path\n\tMessage: Less than 1 values on [ rdf:type rdfs:Resource ; rdfs:comment Literal(\"An actuatiin has to have either one phenomenonTime or one resultTime.\", lang=en) ; sh:or ( [ rdf:type rdfs:Resource ; sh:class time:TemporalEntity ; sh:maxCount Literal(\"1\", datatype=xsd:integer) ; sh:minCount Literal(\"1\", datatype=xsd:integer) ; sh:path sosa:phenomenonTime ] [ rdf:type rdfs:Resource ; sh:datatype xsd:dateTime ; sh:maxCount Literal(\"1\", datatype=xsd:integer) ; sh:minCount Literal(\"1\", datatype=xsd:integer) ; sh:path sosa:resultTime ] ) ]->sh:path\nConstraint Violation in MinCountConstraintComponent (http://www.w3.org/ns/shacl#MinCountConstraintComponent):\n\tSeverity: sh:Violation\n\tSource Shape: [ sh:maxCount Literal(\"1\", datatype=xsd:integer) ; sh:minCount Literal(\"1\", datatype=xsd:integer) ; sh:or ( shsh:PathShape [ sh:nodeKind sh:IRI ] ) ; sh:path sh:path ]\n\tFocus Node: [ rdf:type rdfs:Resource ; rdfs:comment Literal(\"An actuation can have hasResult or hasSimpleResult as the result, but not neither.\", lang=en) ; sh:or ( [ rdf:type rdfs:Resource ; sh:class sosa:Result ; sh:maxCount Literal(\"1\", datatype=xsd:integer) ; sh:minCount Literal(\"1\", datatype=xsd:integer) ; sh:path sosa:hasResult ] [ rdf:type rdfs:Resource ; sh:maxCount Literal(\"1\", datatype=xsd:integer) ; sh:minCount Literal(\"1\", datatype=xsd:integer) ; sh:path sosa:hasSimpleResult ] ) ]\n\tResult Path: sh:path\n\tMessage: Less than 1 values on [ rdf:type rdfs:Resource ; rdfs:comment Literal(\"An actuation can have hasResult or hasSimpleResult as the result, but not neither.\", lang=en) ; sh:or ( [ rdf:type rdfs:Resource ; sh:class sosa:Result ; sh:maxCount Literal(\"1\", datatype=xsd:integer) ; sh:minCount Literal(\"1\", datatype=xsd:integer) ; sh:path sosa:hasResult ] [ rdf:type rdfs:Resource ; sh:maxCount Literal(\"1\", datatype=xsd:integer) ; sh:minCount Literal(\"1\", datatype=xsd:integer) ; sh:path sosa:hasSimpleResult ] ) ]->sh:path\n",
     "output_type": "error",
     "traceback": [
      "\u001b[0;31m---------------------------------------------------------------------------\u001b[0m",
      "\u001b[0;31mReportableRuntimeError\u001b[0m                    Traceback (most recent call last)",
      "\u001b[0;32m/var/folders/g7/50bd3yv516g2c00141_g_r180000gn/T/ipykernel_14831/1162708350.py\u001b[0m in \u001b[0;36m<module>\u001b[0;34m\u001b[0m\n\u001b[1;32m     14\u001b[0m         \u001b[0mjs\u001b[0m\u001b[0;34m=\u001b[0m\u001b[0;32mFalse\u001b[0m\u001b[0;34m,\u001b[0m\u001b[0;34m\u001b[0m\u001b[0m\n\u001b[1;32m     15\u001b[0m         \u001b[0minference\u001b[0m\u001b[0;34m=\u001b[0m\u001b[0;34m'rdfs'\u001b[0m\u001b[0;34m,\u001b[0m\u001b[0;34m\u001b[0m\u001b[0m\n\u001b[0;32m---> 16\u001b[0;31m         serialize_report_graph=True)\n\u001b[0m\u001b[1;32m     17\u001b[0m     \u001b[0mconforms\u001b[0m\u001b[0;34m,\u001b[0m \u001b[0mresults_graph\u001b[0m\u001b[0;34m,\u001b[0m \u001b[0mresults_text\u001b[0m \u001b[0;34m=\u001b[0m \u001b[0mr\u001b[0m\u001b[0;34m\u001b[0m\u001b[0m\n\u001b[1;32m     18\u001b[0m \u001b[0;34m\u001b[0m\u001b[0m\n",
      "\u001b[0;32m/usr/local/lib/python3.7/site-packages/pyshacl/validate.py\u001b[0m in \u001b[0;36mvalidate\u001b[0;34m(data_graph, shacl_graph, ont_graph, advanced, inference, inplace, abort_on_first, allow_warnings, *args, **kwargs)\u001b[0m\n\u001b[1;32m    373\u001b[0m             \u001b[0mmsg\u001b[0m \u001b[0;34m=\u001b[0m \u001b[0;34m\"Shacl File does not validate against the Shacl Shapes Shacl file.\\n{}\"\u001b[0m\u001b[0;34m.\u001b[0m\u001b[0mformat\u001b[0m\u001b[0;34m(\u001b[0m\u001b[0mv_t\u001b[0m\u001b[0;34m)\u001b[0m\u001b[0;34m\u001b[0m\u001b[0m\n\u001b[1;32m    374\u001b[0m             \u001b[0mlog\u001b[0m\u001b[0;34m.\u001b[0m\u001b[0merror\u001b[0m\u001b[0;34m(\u001b[0m\u001b[0mmsg\u001b[0m\u001b[0;34m)\u001b[0m\u001b[0;34m\u001b[0m\u001b[0m\n\u001b[0;32m--> 375\u001b[0;31m             \u001b[0;32mraise\u001b[0m \u001b[0mReportableRuntimeError\u001b[0m\u001b[0;34m(\u001b[0m\u001b[0mmsg\u001b[0m\u001b[0;34m)\u001b[0m\u001b[0;34m\u001b[0m\u001b[0m\n\u001b[0m\u001b[1;32m    376\u001b[0m     \u001b[0mdo_owl_imports\u001b[0m \u001b[0;34m=\u001b[0m \u001b[0mkwargs\u001b[0m\u001b[0;34m.\u001b[0m\u001b[0mpop\u001b[0m\u001b[0;34m(\u001b[0m\u001b[0;34m'do_owl_imports'\u001b[0m\u001b[0;34m,\u001b[0m \u001b[0;32mFalse\u001b[0m\u001b[0;34m)\u001b[0m\u001b[0;34m\u001b[0m\u001b[0m\n\u001b[1;32m    377\u001b[0m     \u001b[0mdata_graph_format\u001b[0m \u001b[0;34m=\u001b[0m \u001b[0mkwargs\u001b[0m\u001b[0;34m.\u001b[0m\u001b[0mpop\u001b[0m\u001b[0;34m(\u001b[0m\u001b[0;34m'data_graph_format'\u001b[0m\u001b[0;34m,\u001b[0m \u001b[0;32mNone\u001b[0m\u001b[0;34m)\u001b[0m\u001b[0;34m\u001b[0m\u001b[0m\n",
      "\u001b[0;31mReportableRuntimeError\u001b[0m: Shacl File does not validate against the Shacl Shapes Shacl file.\nValidation Report\nConforms: False\nResults (2):\nConstraint Violation in MinCountConstraintComponent (http://www.w3.org/ns/shacl#MinCountConstraintComponent):\n\tSeverity: sh:Violation\n\tSource Shape: [ sh:maxCount Literal(\"1\", datatype=xsd:integer) ; sh:minCount Literal(\"1\", datatype=xsd:integer) ; sh:or ( shsh:PathShape [ sh:nodeKind sh:IRI ] ) ; sh:path sh:path ]\n\tFocus Node: [ rdf:type rdfs:Resource ; rdfs:comment Literal(\"An actuatiin has to have either one phenomenonTime or one resultTime.\", lang=en) ; sh:or ( [ rdf:type rdfs:Resource ; sh:class time:TemporalEntity ; sh:maxCount Literal(\"1\", datatype=xsd:integer) ; sh:minCount Literal(\"1\", datatype=xsd:integer) ; sh:path sosa:phenomenonTime ] [ rdf:type rdfs:Resource ; sh:datatype xsd:dateTime ; sh:maxCount Literal(\"1\", datatype=xsd:integer) ; sh:minCount Literal(\"1\", datatype=xsd:integer) ; sh:path sosa:resultTime ] ) ]\n\tResult Path: sh:path\n\tMessage: Less than 1 values on [ rdf:type rdfs:Resource ; rdfs:comment Literal(\"An actuatiin has to have either one phenomenonTime or one resultTime.\", lang=en) ; sh:or ( [ rdf:type rdfs:Resource ; sh:class time:TemporalEntity ; sh:maxCount Literal(\"1\", datatype=xsd:integer) ; sh:minCount Literal(\"1\", datatype=xsd:integer) ; sh:path sosa:phenomenonTime ] [ rdf:type rdfs:Resource ; sh:datatype xsd:dateTime ; sh:maxCount Literal(\"1\", datatype=xsd:integer) ; sh:minCount Literal(\"1\", datatype=xsd:integer) ; sh:path sosa:resultTime ] ) ]->sh:path\nConstraint Violation in MinCountConstraintComponent (http://www.w3.org/ns/shacl#MinCountConstraintComponent):\n\tSeverity: sh:Violation\n\tSource Shape: [ sh:maxCount Literal(\"1\", datatype=xsd:integer) ; sh:minCount Literal(\"1\", datatype=xsd:integer) ; sh:or ( shsh:PathShape [ sh:nodeKind sh:IRI ] ) ; sh:path sh:path ]\n\tFocus Node: [ rdf:type rdfs:Resource ; rdfs:comment Literal(\"An actuation can have hasResult or hasSimpleResult as the result, but not neither.\", lang=en) ; sh:or ( [ rdf:type rdfs:Resource ; sh:class sosa:Result ; sh:maxCount Literal(\"1\", datatype=xsd:integer) ; sh:minCount Literal(\"1\", datatype=xsd:integer) ; sh:path sosa:hasResult ] [ rdf:type rdfs:Resource ; sh:maxCount Literal(\"1\", datatype=xsd:integer) ; sh:minCount Literal(\"1\", datatype=xsd:integer) ; sh:path sosa:hasSimpleResult ] ) ]\n\tResult Path: sh:path\n\tMessage: Less than 1 values on [ rdf:type rdfs:Resource ; rdfs:comment Literal(\"An actuation can have hasResult or hasSimpleResult as the result, but not neither.\", lang=en) ; sh:or ( [ rdf:type rdfs:Resource ; sh:class sosa:Result ; sh:maxCount Literal(\"1\", datatype=xsd:integer) ; sh:minCount Literal(\"1\", datatype=xsd:integer) ; sh:path sosa:hasResult ] [ rdf:type rdfs:Resource ; sh:maxCount Literal(\"1\", datatype=xsd:integer) ; sh:minCount Literal(\"1\", datatype=xsd:integer) ; sh:path sosa:hasSimpleResult ] ) ]->sh:path\n"
     ]
    }
   ],
   "source": [
    "# shacl_needs_to_validate = ['Observation', 'ObservationCollection', 'FeatureOfInterest', 'ObservableProperty']\n",
    "for shape_path in shape_paths:\n",
    "    try:\n",
    "        shape = Graph()\n",
    "        shape.parse(shape_path, format=\"ttl\")\n",
    "    except:\n",
    "        print(shape_path)\n",
    "    \n",
    "    # Validate\n",
    "    r = validate(\n",
    "        data_graph=example_graph,\n",
    "        shacl_graph=shape,\n",
    "        abort_on_first=False,\n",
    "        allow_warnings=False,\n",
    "        meta_shacl=True,\n",
    "        advanced=True,\n",
    "        js=False,\n",
    "        inference='rdfs',\n",
    "        serialize_report_graph=True)\n",
    "    conforms, results_graph, results_text = r\n",
    "\n",
    "    shape_name = shape_path.split(\"/\")[-1]\n",
    "    print (f\"Processing: {shape_name}!\")\n",
    "    print (f\"Result Text: {results_text}\")\n",
    "    # print ((\"#\"*130 +\"\\n\")*2)"
   ]
  },
  {
   "cell_type": "code",
   "execution_count": null,
   "id": "4b586d2c-a732-45e8-9973-0fb044ebac43",
   "metadata": {},
   "outputs": [],
   "source": []
  }
 ],
 "metadata": {
  "kernelspec": {
   "display_name": "Python 3 (ipykernel)",
   "language": "python",
   "name": "python3"
  },
  "language_info": {
   "codemirror_mode": {
    "name": "ipython",
    "version": 3
   },
   "file_extension": ".py",
   "mimetype": "text/x-python",
   "name": "python",
   "nbconvert_exporter": "python",
   "pygments_lexer": "ipython3",
   "version": "3.7.0"
  }
 },
 "nbformat": 4,
 "nbformat_minor": 5
}
