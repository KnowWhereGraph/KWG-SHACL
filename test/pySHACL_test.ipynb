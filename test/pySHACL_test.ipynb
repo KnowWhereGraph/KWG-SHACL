{
 "cells": [
  {
   "cell_type": "code",
   "execution_count": 70,
   "metadata": {},
   "outputs": [
    {
     "data": {
      "text/plain": [
       "<Graph identifier=Ne91c58294e8e48c48e65c86f0faa4926 (<class 'rdflib.graph.Graph'>)>"
      ]
     },
     "execution_count": 70,
     "metadata": {},
     "output_type": "execute_result"
    }
   ],
   "source": [
    "from rdflib import Graph\n",
    "shape = Graph()\n",
    "shape.parse('shapes/node-shapes/TimeConstraint.ttl', format='ttl')\n",
    "\n",
    "data = Graph()\n",
    "data.parse('./example-graphs/Observation-ExampleGraph.ttl', format='ttl')"
   ]
  },
  {
   "cell_type": "code",
   "execution_count": 71,
   "metadata": {},
   "outputs": [
    {
     "name": "stderr",
     "output_type": "stream",
     "text": [
      "Constraint Violation in SPARQLConstraintComponent (http://www.w3.org/ns/shacl#SPARQLConstraintComponent):\n",
      "\tSeverity: sh:Violation\n",
      "\tSource Shape: sosa-shacl:SOSATimeConstraint\n",
      "\tFocus Node: ex:Obs1\n",
      "\tValue Node: ex:Obs1\n",
      "\tResult Path: sosa:phenomenonTime\n",
      "\tSource Constraint: [ sh:message Literal(\"Result time has to be later than the phenomenon time.\") ; sh:select Literal(\"\n",
      "\t\t\tSELECT $this (sosa:phenomenonTime AS ?path) ?phenTime_literal\n",
      "\t\t\tWHERE {\n",
      "\t\t\t\t$this sosa:phenomenonTime ?phenTime ;\n",
      "\t\t\t\t\t  sosa:resultTime ?resultTime_literal . \n",
      "\t\t\t\t?phenTime time:hasBeginning ?phenTime_obj .\n",
      "               ?phenTime_obj time:inXSDDateTime ?phenTime_literal .    \n",
      "\t\t\t\tFILTER (?phenTime_literal > ?resultTime_literal)\n",
      "\t\t\t}\n",
      "\t\t\t\") ]\n",
      "\tMessage: Result time has to be later than the phenomenon time.\n",
      "\n"
     ]
    }
   ],
   "source": [
    "from pyshacl import validate\n",
    "r = validate(data_graph = data,\n",
    "      shacl_graph=  shape,\n",
    "      abort_on_first=False,\n",
    "      allow_warnings=False,\n",
    "      meta_shacl=False,\n",
    "      advanced=True,\n",
    "      js=False,\n",
    "      debug=True)\n",
    "conforms, results_graph, results_text = r"
   ]
  }
 ],
 "metadata": {
  "kernelspec": {
   "display_name": "Python 3",
   "language": "python",
   "name": "python3"
  },
  "language_info": {
   "codemirror_mode": {
    "name": "ipython",
    "version": 3
   },
   "file_extension": ".py",
   "mimetype": "text/x-python",
   "name": "python",
   "nbconvert_exporter": "python",
   "pygments_lexer": "ipython3",
   "version": "3.7.6"
  }
 },
 "nbformat": 4,
 "nbformat_minor": 4
}
