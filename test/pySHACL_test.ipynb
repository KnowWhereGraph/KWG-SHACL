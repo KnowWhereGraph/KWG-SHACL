{
 "cells": [
  {
   "cell_type": "code",
   "execution_count": 53,
   "metadata": {},
   "outputs": [
    {
     "data": {
      "text/plain": [
       "<Graph identifier=N32be64bb33a24ff0be0f576c0d6a86cf (<class 'rdflib.graph.Graph'>)>"
      ]
     },
     "execution_count": 53,
     "metadata": {},
     "output_type": "execute_result"
    }
   ],
   "source": [
    "from rdflib import Graph\n",
    "shape = Graph()\n",
    "shape.parse('shapes/node-shapes/ObservationConstraint.ttl', format='ttl')\n",
    "\n",
    "data = Graph()\n",
    "data.parse('./example-graphs/Observation-ExampleGraph.ttl', format='ttl')"
   ]
  },
  {
   "cell_type": "code",
   "execution_count": 57,
   "metadata": {},
   "outputs": [],
   "source": [
    "from pyshacl import validate\n",
    "r = validate(data_graph = data,\n",
    "      shacl_graph=  shape,\n",
    "      abort_on_first=False,\n",
    "      allow_warnings=False,\n",
    "      meta_shacl=False,\n",
    "      advanced=True,\n",
    "      js=False,\n",
    "      debug=True)\n",
    "conforms, results_graph, results_text = r"
   ]
  }
 ],
 "metadata": {
  "kernelspec": {
   "display_name": "Python 3",
   "language": "python",
   "name": "python3"
  },
  "language_info": {
   "codemirror_mode": {
    "name": "ipython",
    "version": 3
   },
   "file_extension": ".py",
   "mimetype": "text/x-python",
   "name": "python",
   "nbconvert_exporter": "python",
   "pygments_lexer": "ipython3",
   "version": "3.7.6"
  }
 },
 "nbformat": 4,
 "nbformat_minor": 4
}
